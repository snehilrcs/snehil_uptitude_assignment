{
 "cells": [
  {
   "cell_type": "code",
   "execution_count": 1,
   "id": "e77ba0d1",
   "metadata": {},
   "outputs": [],
   "source": [
    "import re\n",
    "from datetime import datetime\n",
    "import pandas as pd"
   ]
  },
  {
   "cell_type": "code",
   "execution_count": 2,
   "id": "efba8a1b",
   "metadata": {},
   "outputs": [
    {
     "data": {
      "text/plain": [
       "'17:00'"
      ]
     },
     "execution_count": 2,
     "metadata": {},
     "output_type": "execute_result"
    }
   ],
   "source": [
    "def convert_to_24_hrs_format(time_string):\n",
    "    #time_str = \"5:30 pm\"\n",
    "    try:\n",
    "        time_obj = datetime.strptime(time_string, '%I:%M %p')\n",
    "    except ValueError:\n",
    "        time_obj = datetime.strptime(time_string, '%I %p')\n",
    "    time_obj = time_obj.strftime('%H:%M')\n",
    "\n",
    "    return(time_obj)\n",
    "convert_to_24_hrs_format(\"5 pm\")"
   ]
  },
  {
   "cell_type": "code",
   "execution_count": 3,
   "id": "2e71ad0d",
   "metadata": {},
   "outputs": [],
   "source": [
    "def convert_string_to_day_time(timing_string):\n",
    "    day_time = {}\n",
    "    hours = re.findall(r'(\\w{3}(?:-\\w{3})?(?:, \\w{3})?) (\\d{1,2}:\\d{2} [ap]m|\\d{1,2} [ap]m) - (\\d{1,2}:\\d{2} [ap]m|\\d{1,2} [ap]m)', timing_string)\n",
    "    #print(hours)\n",
    "    days = [\"Mon\",\"Tue\",\"Wed\",\"Thu\",\"Fri\",\"Sat\",\"Sun\"]\n",
    "    for hour in hours:\n",
    "        opening_time = convert_to_24_hrs_format(hour[-2])\n",
    "        closing_time = convert_to_24_hrs_format(hour[-1])\n",
    "        day_ranges=hour[0].split(\",\")\n",
    "        for day_range in day_ranges:\n",
    "            if(len(day_range.split(\"-\"))>1):\n",
    "                start_day = day_range.split(\"-\")[0]\n",
    "                end_day = day_range.split(\"-\")[1]\n",
    "                start_index = days.index(start_day)\n",
    "                end_index = days.index(end_day)\n",
    "                #print(f\"start_index={start_index},end_index={end_index}\")\n",
    "                for i in range(start_index,end_index+1):\n",
    "                    #print(days[i],opening_time,closing_time)\n",
    "                    day_time[days[i]] = [opening_time,closing_time]\n",
    "            else:\n",
    "                #print(day_range.strip(),(opening_time),closing_time)\n",
    "                day_time[day_range.strip()] = [opening_time,closing_time]\n",
    "                #if(opening_time<closing_time):\n",
    "                 #   print(\"Hi Hello\")\n",
    "                #else:\n",
    "                 #   print(\"YO\")\n",
    "                day_time[day_range.strip()] = [opening_time,closing_time]\n",
    "    return day_time"
   ]
  },
  {
   "cell_type": "code",
   "execution_count": 14,
   "id": "178a280c",
   "metadata": {},
   "outputs": [],
   "source": [
    "    def read_csv_file(csv_file_name):\n",
    "        \n",
    "        '''Reads the csv file and transforms it into computable date type'''\n",
    "        \n",
    "        df = pd.read_csv(csv_file_name,names = [\"restaurants\",\"date_time\"])\n",
    "        #df.head()\n",
    "        dict_list = []\n",
    "        for string in df[\"date_time\"].iteritems():\n",
    "            #print((string[1]))\n",
    "            dict_list.append(convert_string_to_day_time(string[1]))\n",
    "        days = [\"Mon\",\"Tue\",\"Wed\",\"Thu\",\"Fri\",\"Sat\",\"Sun\"]\n",
    "        days_start = [\"Mon_start\",\"Tue_start\",\"Wed_start\",\"Thu_start\",\"Fri_start\",\"Sat_start\",\"Sun_start\"]\n",
    "        final_data = []\n",
    "        for obj in dict_list:\n",
    "            columns = days\n",
    "            data = []\n",
    "            for day in days:\n",
    "\n",
    "                data.append(obj.get(day,[0,0])[0])\n",
    "            final_data.append(data)\n",
    "            df_days_start = pd.DataFrame(final_data,columns = days_start)\n",
    "            #df_days.head(-5)\n",
    "        final_data = []\n",
    "        days_end = [\"Mon_end\",\"Tue_end\",\"Wed_end\",\"Thu_end\",\"Fri_end\",\"Sat_end\",\"Sun_end\"]\n",
    "        for obj in dict_list:\n",
    "            columns = days\n",
    "            data = []\n",
    "            for day in days:\n",
    "\n",
    "                data.append(obj.get(day,[0,0])[1])\n",
    "            final_data.append(data)\n",
    "        df_days_end = pd.DataFrame(final_data,columns = days_end)\n",
    "        df_days_end.head()\n",
    "        df_days = pd.concat([df_days_start,df_days_end],axis = 1)\n",
    "        df_days.head()\n",
    "        #Lets Join the Dataframe\n",
    "        df_concat = pd.concat([df, df_days], axis=1)\n",
    "        df_concat.head()\n",
    "        return df_concat"
   ]
  },
  {
   "cell_type": "code",
   "execution_count": 11,
   "id": "86d5b7f9",
   "metadata": {},
   "outputs": [],
   "source": [
    "def split_date_time_object(date_time_object):\n",
    "        \n",
    "        '''Extracts the days and time from the date time object'''\n",
    "        \n",
    "        day_time = []\n",
    "        #dt = date_time_object.strptime(date_time_object, '%Y-%m-%d %H:%M:%S.%f')\n",
    "        day = date_time_object.strftime('%A')\n",
    "        time = date_time_object.strftime('%H:%M')\n",
    "        day_time = [day[:3],time]\n",
    "        return day_time"
   ]
  },
  {
   "cell_type": "code",
   "execution_count": 16,
   "id": "8c2cd2e1",
   "metadata": {},
   "outputs": [],
   "source": [
    "def get_open_restaurants(date_time_object,file_name):\n",
    "        \n",
    "        '''Lists out the restaurants which are open during that hours on a particular day'''\n",
    "        df_concat = read_csv_file(file_name)\n",
    "        date_time = split_date_time_object(date_time_object)\n",
    "        print(f\"These are the restaurants which will be opened on {date_time[0]} at {date_time[1]}\")\n",
    "        day = date_time[0]\n",
    "        #print(day)\n",
    "        time = date_time[1]\n",
    "        day_start= day + \"_start\"\n",
    "        day_end = day + \"_end\"\n",
    "        time_filter = (df_concat[day_start].astype(str) < time) & (df_concat[day_end].astype(str) > time)\n",
    "        selected_rows = df_concat.loc[time_filter]\n",
    "        return selected_rows[\"restaurants\"]"
   ]
  },
  {
   "cell_type": "code",
   "execution_count": 17,
   "id": "6de0c1fd",
   "metadata": {},
   "outputs": [
    {
     "name": "stdout",
     "output_type": "stream",
     "text": [
      "These are the restaurants which will be opened on Tue at 17:30\n"
     ]
    },
    {
     "data": {
      "text/plain": [
       "0                             Kushi Tsuru\n",
       "1                      Osakaya Restaurant\n",
       "2                       The Stinking Rose\n",
       "3                    McCormick & Kuleto's\n",
       "4                       Mifune Restaurant\n",
       "5                  The Cheesecake Factory\n",
       "6             New Delhi Indian Restaurant\n",
       "7                        Iroha Restaurant\n",
       "8                            Rose Pistola\n",
       "9                     Alioto's Restaurant\n",
       "10    Canton Seafood & Dim Sum Restaurant\n",
       "11                  All Season Restaurant\n",
       "12               Bombay Indian Restaurant\n",
       "13       Sam's Grill & Seafood Restaurant\n",
       "14                  2G Japanese Brasserie\n",
       "15                        Restaurant Lulu\n",
       "18                              Herbivore\n",
       "19                          Penang Garden\n",
       "20                           John's Grill\n",
       "21                               Quan Bac\n",
       "23                             Burger Bar\n",
       "24                         Blu Restaurant\n",
       "26              Shanghai China Restaurant\n",
       "27                                   Tres\n",
       "28                          Isobune Sushi\n",
       "30                          Far East Cafe\n",
       "31                            Parallel 37\n",
       "32                 Bai Thong Thai Cuisine\n",
       "33                                Alhamra\n",
       "35                      Nick's Lighthouse\n",
       "36               Paragon Restaurant & Bar\n",
       "37                     Chili Lemon Garlic\n",
       "38                     Bow Hon Restaurant\n",
       "39                         San Dong House\n",
       "41                              Cesario's\n",
       "42          Colombini Italian Cafe Bistro\n",
       "43                     Sabella & La Torre\n",
       "44                 Soluna Cafe and Lounge\n",
       "45                            Tong Palace\n",
       "46                India Garden Restaurant\n",
       "47         Sapporo-Ya Japanese Restaurant\n",
       "48      Santorini's Mediterranean Cuisine\n",
       "49                            Kyoto Sushi\n",
       "Name: restaurants, dtype: object"
      ]
     },
     "execution_count": 17,
     "metadata": {},
     "output_type": "execute_result"
    }
   ],
   "source": [
    "get_open_restaurants(datetime(2023, 1, 31, 17, 30),\"restaurants.csv\")"
   ]
  },
  {
   "cell_type": "code",
   "execution_count": null,
   "id": "6ebf1f11",
   "metadata": {},
   "outputs": [],
   "source": []
  }
 ],
 "metadata": {
  "kernelspec": {
   "display_name": "Python 3 (ipykernel)",
   "language": "python",
   "name": "python3"
  },
  "language_info": {
   "codemirror_mode": {
    "name": "ipython",
    "version": 3
   },
   "file_extension": ".py",
   "mimetype": "text/x-python",
   "name": "python",
   "nbconvert_exporter": "python",
   "pygments_lexer": "ipython3",
   "version": "3.9.15"
  }
 },
 "nbformat": 4,
 "nbformat_minor": 5
}
